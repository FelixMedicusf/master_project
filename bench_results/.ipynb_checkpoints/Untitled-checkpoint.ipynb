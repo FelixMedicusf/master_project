{
 "cells": [
  {
   "cell_type": "code",
   "execution_count": 112,
   "id": "4157955a",
   "metadata": {},
   "outputs": [],
   "source": [
    "import pandas as pd"
   ]
  },
  {
   "cell_type": "code",
   "execution_count": null,
   "id": "ed403eff",
   "metadata": {},
   "outputs": [],
   "source": []
  },
  {
   "cell_type": "code",
   "execution_count": 113,
   "id": "9b66c179",
   "metadata": {},
   "outputs": [],
   "source": [
    "ts1_path = r\"C:\\Users\\Felix Medicus\\Desktop\\timeseries1.csv\"\n",
    "trips1_path = r\"C:\\Users\\Felix Medicus\\Desktop\\trips1.csv\"\n",
    "all_path = r\"C:\\Users\\Felix Medicus\\Desktop\\mongodb_responses.csv\"\n",
    "ts1 = pd.read_csv(ts1_path)\n",
    "trips1 = pd.read_csv(trips1_path)\n",
    "all = pd.read_csv(all_path)"
   ]
  },
  {
   "cell_type": "code",
   "execution_count": 114,
   "id": "8525c03d",
   "metadata": {},
   "outputs": [
    {
     "name": "stdout",
     "output_type": "stream",
     "text": [
      "(249, 14)\n"
     ]
    }
   ],
   "source": [
    "print(ts1.shape)"
   ]
  },
  {
   "cell_type": "code",
   "execution_count": 115,
   "id": "526f398d",
   "metadata": {},
   "outputs": [
    {
     "name": "stdout",
     "output_type": "stream",
     "text": [
      "136.55421686746988\n"
     ]
    }
   ],
   "source": [
    "average = ts1.iloc[:, 12].mean()\n",
    "print(average)"
   ]
  }
 ],
 "metadata": {
  "kernelspec": {
   "display_name": "Python 3 (ipykernel)",
   "language": "python",
   "name": "python3"
  },
  "language_info": {
   "codemirror_mode": {
    "name": "ipython",
    "version": 3
   },
   "file_extension": ".py",
   "mimetype": "text/x-python",
   "name": "python",
   "nbconvert_exporter": "python",
   "pygments_lexer": "ipython3",
   "version": "3.10.4"
  }
 },
 "nbformat": 4,
 "nbformat_minor": 5
}
