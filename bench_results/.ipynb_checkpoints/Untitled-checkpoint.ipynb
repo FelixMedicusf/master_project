{
 "cells": [
  {
   "cell_type": "code",
   "execution_count": 142,
   "id": "4157955a",
   "metadata": {},
   "outputs": [],
   "source": [
    "import pandas as pd"
   ]
  },
  {
   "cell_type": "code",
   "execution_count": 143,
   "id": "ed403eff",
   "metadata": {},
   "outputs": [],
   "source": [
    "mongodbSinglePath = r\"C:\\Users\\Felix Medicus\\Desktop\\benchmark_experiments\\MongoDB\\single\\1.mongo_benchmark_execution_logs_spatiotemporal.txt\"\n",
    "mobilitydbSinglePath = r\"C:\\Users\\Felix Medicus\\Desktop\\benchmark_experiments\\MobilityDB\\single\\1.sql_benchmark_execution_logs_spatiotemporal.txt\"\n",
    "\n",
    "mobilitydbClusterPath = r\"C:\\Users\\Felix Medicus\\Desktop\\benchmark_experiments\\MobilityDB\\cluster\\1.mongo_benchmark_execution_logs_spatiotemporal.txt\"\n",
    "mobilitydbClusterPath = r\"C:\\Users\\Felix Medicus\\Desktop\\benchmark_experiments\\MobilityDB\\cluster\\1.sql_benchmark_execution_logs_spatiotemporal.txt\"\n"
   ]
  },
  {
   "cell_type": "code",
   "execution_count": 144,
   "id": "9b66c179",
   "metadata": {},
   "outputs": [
    {
     "name": "stdout",
     "output_type": "stream",
     "text": [
      "Index(['threadName', ' queryName', ' queryType', ' parameterValues', ' round',\n",
      "       ' executionIndex', ' startFirstQuery', ' endFirstQuery',\n",
      "       ' startSecQuery', ' endSecQuery', ' latency', ' fetchedRecords'],\n",
      "      dtype='object')\n"
     ]
    },
    {
     "data": {
      "text/html": [
       "<div>\n",
       "<style scoped>\n",
       "    .dataframe tbody tr th:only-of-type {\n",
       "        vertical-align: middle;\n",
       "    }\n",
       "\n",
       "    .dataframe tbody tr th {\n",
       "        vertical-align: top;\n",
       "    }\n",
       "\n",
       "    .dataframe thead th {\n",
       "        text-align: right;\n",
       "    }\n",
       "</style>\n",
       "<table border=\"1\" class=\"dataframe\">\n",
       "  <thead>\n",
       "    <tr style=\"text-align: right;\">\n",
       "      <th></th>\n",
       "      <th>threadName</th>\n",
       "      <th>queryName</th>\n",
       "      <th>queryType</th>\n",
       "      <th>parameterValues</th>\n",
       "      <th>round</th>\n",
       "      <th>executionIndex</th>\n",
       "      <th>startFirstQuery</th>\n",
       "      <th>endFirstQuery</th>\n",
       "      <th>startSecQuery</th>\n",
       "      <th>endSecQuery</th>\n",
       "      <th>latency</th>\n",
       "      <th>fetchedRecords</th>\n",
       "    </tr>\n",
       "  </thead>\n",
       "  <tbody>\n",
       "    <tr>\n",
       "      <th>0</th>\n",
       "      <td>thread-12</td>\n",
       "      <td>flightsInCountyInPeriod</td>\n",
       "      <td>spatiotemporal</td>\n",
       "      <td>[2023-07-25 06:01:07/ 2023-07-27 15:54:24];Krs...</td>\n",
       "      <td>0</td>\n",
       "      <td>0</td>\n",
       "      <td>1739137175595</td>\n",
       "      <td>1739137175761</td>\n",
       "      <td>1739137175761</td>\n",
       "      <td>1739137207658</td>\n",
       "      <td>32063</td>\n",
       "      <td>801</td>\n",
       "    </tr>\n",
       "    <tr>\n",
       "      <th>1</th>\n",
       "      <td>thread-31</td>\n",
       "      <td>flightsInCountyInPeriod</td>\n",
       "      <td>spatiotemporal</td>\n",
       "      <td>[2023-02-06 05:00:10/ 2023-02-10 01:32:07];Krs...</td>\n",
       "      <td>0</td>\n",
       "      <td>0</td>\n",
       "      <td>1739137175595</td>\n",
       "      <td>1739137175753</td>\n",
       "      <td>1739137175753</td>\n",
       "      <td>1739137213798</td>\n",
       "      <td>38203</td>\n",
       "      <td>1412</td>\n",
       "    </tr>\n",
       "    <tr>\n",
       "      <th>2</th>\n",
       "      <td>thread-16</td>\n",
       "      <td>flightsInCountyInPeriod</td>\n",
       "      <td>spatiotemporal</td>\n",
       "      <td>[2023-01-16 01:48:20/ 2023-01-28 11:05:36];Krs...</td>\n",
       "      <td>0</td>\n",
       "      <td>0</td>\n",
       "      <td>1739137175596</td>\n",
       "      <td>1739137175740</td>\n",
       "      <td>1739137175740</td>\n",
       "      <td>1739137215953</td>\n",
       "      <td>40357</td>\n",
       "      <td>1147</td>\n",
       "    </tr>\n",
       "    <tr>\n",
       "      <th>3</th>\n",
       "      <td>thread-9</td>\n",
       "      <td>flightsInCountyInPeriod</td>\n",
       "      <td>spatiotemporal</td>\n",
       "      <td>[2023-06-12 11:57:39/ 2023-06-18 05:59:54];Krs...</td>\n",
       "      <td>0</td>\n",
       "      <td>0</td>\n",
       "      <td>1739137175595</td>\n",
       "      <td>1739137175750</td>\n",
       "      <td>1739137175750</td>\n",
       "      <td>1739137216809</td>\n",
       "      <td>41214</td>\n",
       "      <td>912</td>\n",
       "    </tr>\n",
       "    <tr>\n",
       "      <th>4</th>\n",
       "      <td>thread-24</td>\n",
       "      <td>flightsInCountyInPeriod</td>\n",
       "      <td>spatiotemporal</td>\n",
       "      <td>[2023-08-16 20:51:36/ 2023-08-22 09:27:36];Krs...</td>\n",
       "      <td>0</td>\n",
       "      <td>0</td>\n",
       "      <td>1739137175593</td>\n",
       "      <td>1739137175729</td>\n",
       "      <td>1739137175729</td>\n",
       "      <td>1739137217942</td>\n",
       "      <td>42349</td>\n",
       "      <td>1275</td>\n",
       "    </tr>\n",
       "  </tbody>\n",
       "</table>\n",
       "</div>"
      ],
      "text/plain": [
       "  threadName                queryName       queryType  \\\n",
       "0  thread-12  flightsInCountyInPeriod  spatiotemporal   \n",
       "1  thread-31  flightsInCountyInPeriod  spatiotemporal   \n",
       "2  thread-16  flightsInCountyInPeriod  spatiotemporal   \n",
       "3   thread-9  flightsInCountyInPeriod  spatiotemporal   \n",
       "4  thread-24  flightsInCountyInPeriod  spatiotemporal   \n",
       "\n",
       "                                     parameterValues   round   executionIndex  \\\n",
       "0  [2023-07-25 06:01:07/ 2023-07-27 15:54:24];Krs...       0                0   \n",
       "1  [2023-02-06 05:00:10/ 2023-02-10 01:32:07];Krs...       0                0   \n",
       "2  [2023-01-16 01:48:20/ 2023-01-28 11:05:36];Krs...       0                0   \n",
       "3  [2023-06-12 11:57:39/ 2023-06-18 05:59:54];Krs...       0                0   \n",
       "4  [2023-08-16 20:51:36/ 2023-08-22 09:27:36];Krs...       0                0   \n",
       "\n",
       "    startFirstQuery   endFirstQuery   startSecQuery    endSecQuery   latency  \\\n",
       "0     1739137175595   1739137175761   1739137175761  1739137207658     32063   \n",
       "1     1739137175595   1739137175753   1739137175753  1739137213798     38203   \n",
       "2     1739137175596   1739137175740   1739137175740  1739137215953     40357   \n",
       "3     1739137175595   1739137175750   1739137175750  1739137216809     41214   \n",
       "4     1739137175593   1739137175729   1739137175729  1739137217942     42349   \n",
       "\n",
       "    fetchedRecords  \n",
       "0              801  \n",
       "1             1412  \n",
       "2             1147  \n",
       "3              912  \n",
       "4             1275  "
      ]
     },
     "execution_count": 144,
     "metadata": {},
     "output_type": "execute_result"
    }
   ],
   "source": [
    "df=pd.read_csv(mongodbSinglePath, skiprows=1)\n",
    "print(df.columns)\n",
    "df.head()"
   ]
  },
  {
   "cell_type": "code",
   "execution_count": 145,
   "id": "8525c03d",
   "metadata": {},
   "outputs": [
    {
     "name": "stdout",
     "output_type": "stream",
     "text": [
      "Average Latency for spatiotemporal queries: 24888.799333333332\n"
     ]
    }
   ],
   "source": [
    "spatiotemporal_df = df[df[' queryType'] == 'spatiotemporal']\n",
    "average_latency = spatiotemporal_df[' latency'].mean()\n",
    "print(f\"Average Latency for spatiotemporal queries: {average_latency}\")"
   ]
  },
  {
   "cell_type": "code",
   "execution_count": 146,
   "id": "526f398d",
   "metadata": {},
   "outputs": [
    {
     "name": "stdout",
     "output_type": "stream",
     "text": [
      "Average Latency for spatial queries: nan\n"
     ]
    }
   ],
   "source": [
    "spatial_df = df[df[' queryType'] == 'spatial']\n",
    "average_latency = spatial_df[' latency'].mean()\n",
    "print(f\"Average Latency for spatial queries: {average_latency}\")"
   ]
  },
  {
   "cell_type": "code",
   "execution_count": 147,
   "id": "9d472f0b",
   "metadata": {},
   "outputs": [
    {
     "name": "stdout",
     "output_type": "stream",
     "text": [
      "Average Latency for temporal queries: nan\n"
     ]
    }
   ],
   "source": [
    "temporal_df = df[df[' queryType'] == 'temporal']\n",
    "average_latency = temporal_df[' latency'].mean()\n",
    "print(f\"Average Latency for temporal queries: {average_latency}\")"
   ]
  }
 ],
 "metadata": {
  "kernelspec": {
   "display_name": "Python 3 (ipykernel)",
   "language": "python",
   "name": "python3"
  },
  "language_info": {
   "codemirror_mode": {
    "name": "ipython",
    "version": 3
   },
   "file_extension": ".py",
   "mimetype": "text/x-python",
   "name": "python",
   "nbconvert_exporter": "python",
   "pygments_lexer": "ipython3",
   "version": "3.10.4"
  }
 },
 "nbformat": 4,
 "nbformat_minor": 5
}
