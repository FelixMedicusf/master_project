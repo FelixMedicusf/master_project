{
 "cells": [
  {
   "cell_type": "code",
   "execution_count": 697,
   "id": "4157955a",
   "metadata": {},
   "outputs": [],
   "source": [
    "import pandas as pd\n",
    "import matplotlib.pyplot as plt\n",
    "import seaborn as sns\n",
    "import numpy as np\n",
    "import matplotlib.ticker as mticker"
   ]
  },
  {
   "cell_type": "code",
   "execution_count": 698,
   "id": "ed403eff",
   "metadata": {},
   "outputs": [],
   "source": [
    "mongodbSinglePath = r\"C:\\Users\\Felix Medicus\\Desktop\\benchmark_experiments\\MongoDB\\single\\1.mongo_benchmark_execution_logs_mixed.txt\"\n",
    "mobilitydbSinglePath = r\"C:\\Users\\Felix Medicus\\Desktop\\benchmark_experiments\\MobilityDB\\single\\1.sql_benchmark_execution_logs_mixed.txt\"\n",
    "mongodb_single_path_spatiotemporal = r\"C:\\Users\\Felix Medicus\\Desktop\\benchmark_experiments\\MongoDB\\single\\1.mongo_benchmark_execution_logs_spatiotemporal.txt\"\n",
    "mongodb_single_path_spatial = r\"C:\\Users\\Felix Medicus\\Desktop\\benchmark_experiments\\MongoDB\\single\\1.mongo_benchmark_execution_logs_spatial.txt\"\n",
    "mobilitydb_single_path_spatiotemporal = r\"C:\\Users\\Felix Medicus\\Desktop\\benchmark_experiments\\MobilityDB\\single\\1.mongo_benchmark_execution_logs_spatiotemporal.txt\"\n",
    "mobilitydb_single_path_spatial = r\"C:\\Users\\Felix Medicus\\Desktop\\benchmark_experiments\\MobilityDB\\single\\1.mongo_benchmark_execution_logs_spatial.txt\"\n",
    "\n",
    "\n",
    "mongodbClusterPath = r\"C:\\Users\\Felix Medicus\\Desktop\\benchmark_experiments\\MongoDB\\cluster\\1.mongo_benchmark_execution_logs_mixed.txt\"\n",
    "mobilitydbClusterPath = r\"C:\\Users\\Felix Medicus\\Desktop\\benchmark_experiments\\MobilityDB\\cluster\\1.sql_benchmark_execution_logs_mixed.txt\"\n"
   ]
  },
  {
   "cell_type": "code",
   "execution_count": 699,
   "id": "9b66c179",
   "metadata": {
    "scrolled": true
   },
   "outputs": [
    {
     "name": "stdout",
     "output_type": "stream",
     "text": [
      "Index(['threadName', 'queryName', 'queryType', 'parameterValues',\n",
      "       'startFirstQuery', 'endFirstQuery', 'startSecQuery', 'endSecQuery',\n",
      "       'latency'],\n",
      "      dtype='object')\n"
     ]
    },
    {
     "name": "stderr",
     "output_type": "stream",
     "text": [
      "C:\\Users\\Felix Medicus\\AppData\\Local\\Temp\\ipykernel_12400\\3257556051.py:11: FutureWarning: In a future version of pandas all arguments of DataFrame.drop except for the argument 'labels' will be keyword-only.\n",
      "  df.drop('fetchedRecords', 1, inplace=True)\n",
      "C:\\Users\\Felix Medicus\\AppData\\Local\\Temp\\ipykernel_12400\\3257556051.py:12: FutureWarning: In a future version of pandas all arguments of DataFrame.drop except for the argument 'labels' will be keyword-only.\n",
      "  df.drop('round', 1, inplace=True)\n",
      "C:\\Users\\Felix Medicus\\AppData\\Local\\Temp\\ipykernel_12400\\3257556051.py:13: FutureWarning: In a future version of pandas all arguments of DataFrame.drop except for the argument 'labels' will be keyword-only.\n",
      "  df.drop('executionIndex', 1, inplace=True)\n"
     ]
    },
    {
     "data": {
      "text/html": [
       "<div>\n",
       "<style scoped>\n",
       "    .dataframe tbody tr th:only-of-type {\n",
       "        vertical-align: middle;\n",
       "    }\n",
       "\n",
       "    .dataframe tbody tr th {\n",
       "        vertical-align: top;\n",
       "    }\n",
       "\n",
       "    .dataframe thead th {\n",
       "        text-align: right;\n",
       "    }\n",
       "</style>\n",
       "<table border=\"1\" class=\"dataframe\">\n",
       "  <thead>\n",
       "    <tr style=\"text-align: right;\">\n",
       "      <th></th>\n",
       "      <th>threadName</th>\n",
       "      <th>queryName</th>\n",
       "      <th>queryType</th>\n",
       "      <th>parameterValues</th>\n",
       "      <th>startFirstQuery</th>\n",
       "      <th>endFirstQuery</th>\n",
       "      <th>startSecQuery</th>\n",
       "      <th>endSecQuery</th>\n",
       "      <th>latency</th>\n",
       "    </tr>\n",
       "  </thead>\n",
       "  <tbody>\n",
       "    <tr>\n",
       "      <th>0</th>\n",
       "      <td>thread-7</td>\n",
       "      <td>countFlightsAtInstantInDistricts</td>\n",
       "      <td>spatiotemporal</td>\n",
       "      <td>timestamptz'2023-06-26 01:47:21'</td>\n",
       "      <td>1738960628110</td>\n",
       "      <td>1738960628483</td>\n",
       "      <td>0</td>\n",
       "      <td>0</td>\n",
       "      <td>373</td>\n",
       "    </tr>\n",
       "    <tr>\n",
       "      <th>1</th>\n",
       "      <td>thread-2</td>\n",
       "      <td>flightsCloseToMainCitiesLowAltitude</td>\n",
       "      <td>spatial</td>\n",
       "      <td>590;50</td>\n",
       "      <td>1738960628087</td>\n",
       "      <td>1738960629138</td>\n",
       "      <td>0</td>\n",
       "      <td>0</td>\n",
       "      <td>1051</td>\n",
       "    </tr>\n",
       "    <tr>\n",
       "      <th>2</th>\n",
       "      <td>thread-8</td>\n",
       "      <td>flightsCloseToMainCitiesLowAltitude</td>\n",
       "      <td>spatial</td>\n",
       "      <td>860;60</td>\n",
       "      <td>1738960628083</td>\n",
       "      <td>1738960629145</td>\n",
       "      <td>0</td>\n",
       "      <td>0</td>\n",
       "      <td>1062</td>\n",
       "    </tr>\n",
       "    <tr>\n",
       "      <th>3</th>\n",
       "      <td>thread-0</td>\n",
       "      <td>airportUtilizationInPeriod</td>\n",
       "      <td>temporal</td>\n",
       "      <td>tstzspan'[2023-10-18 18:56:36/ 2023-10-19 10:5...</td>\n",
       "      <td>1738960628078</td>\n",
       "      <td>1738960630116</td>\n",
       "      <td>0</td>\n",
       "      <td>0</td>\n",
       "      <td>2038</td>\n",
       "    </tr>\n",
       "    <tr>\n",
       "      <th>4</th>\n",
       "      <td>thread-6</td>\n",
       "      <td>flightsWithLocalOriginDestinationInPeriodInCounty</td>\n",
       "      <td>spatiotemporal</td>\n",
       "      <td>tstzspan'[2023-04-20 13:15:54/ 2023-04-20 15:1...</td>\n",
       "      <td>1738960628127</td>\n",
       "      <td>1738960630245</td>\n",
       "      <td>0</td>\n",
       "      <td>0</td>\n",
       "      <td>2118</td>\n",
       "    </tr>\n",
       "  </tbody>\n",
       "</table>\n",
       "</div>"
      ],
      "text/plain": [
       "  threadName                                          queryName  \\\n",
       "0   thread-7                   countFlightsAtInstantInDistricts   \n",
       "1   thread-2                flightsCloseToMainCitiesLowAltitude   \n",
       "2   thread-8                flightsCloseToMainCitiesLowAltitude   \n",
       "3   thread-0                         airportUtilizationInPeriod   \n",
       "4   thread-6  flightsWithLocalOriginDestinationInPeriodInCounty   \n",
       "\n",
       "        queryType                                    parameterValues  \\\n",
       "0  spatiotemporal                   timestamptz'2023-06-26 01:47:21'   \n",
       "1         spatial                                             590;50   \n",
       "2         spatial                                             860;60   \n",
       "3        temporal  tstzspan'[2023-10-18 18:56:36/ 2023-10-19 10:5...   \n",
       "4  spatiotemporal  tstzspan'[2023-04-20 13:15:54/ 2023-04-20 15:1...   \n",
       "\n",
       "   startFirstQuery  endFirstQuery  startSecQuery  endSecQuery  latency  \n",
       "0    1738960628110  1738960628483              0            0      373  \n",
       "1    1738960628087  1738960629138              0            0     1051  \n",
       "2    1738960628083  1738960629145              0            0     1062  \n",
       "3    1738960628078  1738960630116              0            0     2038  \n",
       "4    1738960628127  1738960630245              0            0     2118  "
      ]
     },
     "execution_count": 699,
     "metadata": {},
     "output_type": "execute_result"
    }
   ],
   "source": [
    "df=pd.read_csv(mobilitydbSinglePath, skiprows=1)\n",
    "mongo_st_df=pd.read_csv(mongodb_single_path_spatiotemporal, skiprows=1)\n",
    "mongo_spatial_df=pd.read_csv(mongodb_single_path_spatial, skiprows=1)\n",
    "mobility_st_df=pd.read_csv(mongodb_single_path_spatiotemporal, skiprows=1)\n",
    "mobility_spatial_df=pd.read_csv(mongodb_single_path_spatial, skiprows=1)\n",
    "\n",
    "spatialQuery=\"flightClosestToPoint\"\n",
    "spatiotemporalQuery=\"flightDurationInMunicipalityLowAltitudeInPeriod\"\n",
    "\n",
    "\n",
    "df.drop('fetchedRecords', 1, inplace=True)\n",
    "df.drop('round', 1, inplace=True)\n",
    "df.drop('executionIndex', 1, inplace=True)\n",
    "print(df.columns)\n",
    "df.head()"
   ]
  },
  {
   "cell_type": "code",
   "execution_count": 700,
   "id": "0fb24a7a",
   "metadata": {},
   "outputs": [
    {
     "name": "stdout",
     "output_type": "stream",
     "text": [
      "Average Latency for all queries: 77079.67083333334\n",
      "90th-percentile for all queries: 267525.79999999993\n",
      "99th-percentile for all queries: 550214.2899999991\n",
      "\n",
      "Row with Minimum Latency:\n",
      "    threadName                         queryName       queryType  \\\n",
      "195   thread-4  countFlightsAtInstantInDistricts  spatiotemporal   \n",
      "\n",
      "                      parameterValues  startFirstQuery  endFirstQuery  \\\n",
      "195  timestamptz'2023-03-04 11:34:46'    1738961588885  1738961589193   \n",
      "\n",
      "     startSecQuery  endSecQuery  latency  \n",
      "195              0            0      308  \n",
      "\n",
      "Row with Maximum Latency:\n",
      "    threadName               queryName queryType          parameterValues  \\\n",
      "125  thread-13  countFlightsInCounties   spatial  'Krs Maerkischer Kreis'   \n",
      "\n",
      "     startFirstQuery  endFirstQuery  startSecQuery  endSecQuery  latency  \n",
      "125    1738960628083  1738961279380              0            0   651297  \n"
     ]
    }
   ],
   "source": [
    "# Compute latency statistics\n",
    "average_latency = df['latency'].mean()\n",
    "percentile_90 = np.percentile(df['latency'], 90)\n",
    "percentile_99 = np.percentile(df['latency'], 99)\n",
    "\n",
    "# Find the rows with minimum and maximum latency\n",
    "min_latency_row = df[df['latency'] == df['latency'].min()]\n",
    "max_latency_row = df[df['latency'] == df['latency'].max()]\n",
    "\n",
    "# Print results\n",
    "print(f\"Average Latency for all queries: {average_latency}\")\n",
    "print(f\"90th-percentile for all queries: {percentile_90}\")\n",
    "print(f\"99th-percentile for all queries: {percentile_99}\")\n",
    "print(\"\\nRow with Minimum Latency:\")\n",
    "print(min_latency_row)\n",
    "print(\"\\nRow with Maximum Latency:\")\n",
    "print(max_latency_row)"
   ]
  },
  {
   "cell_type": "code",
   "execution_count": 701,
   "id": "8525c03d",
   "metadata": {
    "scrolled": true
   },
   "outputs": [
    {
     "name": "stdout",
     "output_type": "stream",
     "text": [
      "Spatio-Temporal Query Count: 120\n",
      "Average Latency for spatiotemporal queries: 61283.13333333333\n",
      "90th-percentile latency: 169962.0\n",
      "99th-percentile latency: 558868.4600000002\n",
      "\n",
      "Row with Minimum Latency:\n",
      "    threadName                         queryName       queryType  \\\n",
      "195   thread-4  countFlightsAtInstantInDistricts  spatiotemporal   \n",
      "\n",
      "                      parameterValues  startFirstQuery  endFirstQuery  \\\n",
      "195  timestamptz'2023-03-04 11:34:46'    1738961588885  1738961589193   \n",
      "\n",
      "     startSecQuery  endSecQuery  latency  \n",
      "195              0            0      308  \n",
      "\n",
      "Row with Maximum Latency:\n",
      "    threadName                queryName       queryType  \\\n",
      "228   thread-1  flightsInCountyInPeriod  spatiotemporal   \n",
      "\n",
      "                                       parameterValues  startFirstQuery  \\\n",
      "228  tstzspan'[2023-04-17 20:36:34/ 2023-05-01 09:1...    1738961164647   \n",
      "\n",
      "     endFirstQuery  startSecQuery  endSecQuery  latency  \n",
      "228  1738961744225              0            0   579578  \n"
     ]
    }
   ],
   "source": [
    "# Filter spatiotemporal queries\n",
    "spatiotemporal_df = df[df['queryType'] == 'spatiotemporal']\n",
    "\n",
    "# Compute statistics\n",
    "average_latency = spatiotemporal_df['latency'].mean()\n",
    "percentile_90 = np.percentile(spatiotemporal_df['latency'], 90)\n",
    "percentile_99 = np.percentile(spatiotemporal_df['latency'], 99)\n",
    "\n",
    "# Find the rows with minimum and maximum latency\n",
    "min_latency_row = spatiotemporal_df[spatiotemporal_df['latency'] == spatiotemporal_df['latency'].min()]\n",
    "max_latency_row = spatiotemporal_df[spatiotemporal_df['latency'] == spatiotemporal_df['latency'].max()]\n",
    "\n",
    "# Print results\n",
    "print(f\"Spatio-Temporal Query Count: {len(spatiotemporal_df)}\")\n",
    "print(f\"Average Latency for spatiotemporal queries: {average_latency}\")\n",
    "print(f\"90th-percentile latency: {percentile_90}\")\n",
    "print(f\"99th-percentile latency: {percentile_99}\")\n",
    "print(\"\\nRow with Minimum Latency:\")\n",
    "print(min_latency_row)\n",
    "print(\"\\nRow with Maximum Latency:\")\n",
    "print(max_latency_row)"
   ]
  },
  {
   "cell_type": "code",
   "execution_count": 702,
   "id": "526f398d",
   "metadata": {
    "scrolled": true
   },
   "outputs": [
    {
     "name": "stdout",
     "output_type": "stream",
     "text": [
      "Spatial Query Count: 60\n",
      "Average Latency for spatial queries: 143020.65\n"
     ]
    }
   ],
   "source": [
    "spatial_df = df[df['queryType'] == 'spatial']\n",
    "average_latency = spatial_df['latency'].mean()\n",
    "print(f\"Spatial Query Count: {len(spatial_df)}\")\n",
    "print(f\"Average Latency for spatial queries: {average_latency}\")"
   ]
  },
  {
   "cell_type": "code",
   "execution_count": 703,
   "id": "9d472f0b",
   "metadata": {},
   "outputs": [
    {
     "name": "stdout",
     "output_type": "stream",
     "text": [
      "Temporal Query Count: 60\n",
      "Average Latency for temporal queries: 42731.76666666667\n"
     ]
    }
   ],
   "source": [
    "temporal_df = df[df['queryType'] == 'temporal']\n",
    "average_latency = temporal_df['latency'].mean()\n",
    "print(f\"Temporal Query Count: {len(temporal_df)}\")\n",
    "print(f\"Average Latency for temporal queries: {average_latency}\")"
   ]
  },
  {
   "cell_type": "code",
   "execution_count": 704,
   "id": "f6e9a1e7",
   "metadata": {},
   "outputs": [
    {
     "data": {
      "image/png": "[encoded data removed]",
      "text/plain": [
       "<Figure size 864x432 with 1 Axes>"
      ]
     },
     "metadata": {},
     "output_type": "display_data"
    }
   ],
   "source": [
    "df['experiment_runtime'] = pd.to_datetime(df['startFirstQuery'], unit='ms')\n",
    "\n",
    "# Convert start time to seconds\n",
    "df['start_time_sec'] = df['startFirstQuery'] / 1000  # Convert ms to seconds\n",
    "\n",
    "# Calculate elapsed time in seconds\n",
    "df['elapsed_time_sec'] = df['start_time_sec'] - df['start_time_sec'].min()\n",
    "\n",
    "# Sort values to ensure proper rolling window application\n",
    "df = df.sort_values(by='elapsed_time_sec')\n",
    "\n",
    "# Convert latency from milliseconds to seconds\n",
    "df['latency_sec'] = df['latency'] / 1000  # Convert ms to sec\n",
    "df['latency_rolling_sec'] = df['latency_sec'].rolling(window=20, min_periods=1).mean()\n",
    "\n",
    "# Plot the latency curves without markers\n",
    "plt.figure(figsize=(12, 6))\n",
    "sns.lineplot(x=df['elapsed_time_sec'], y=df['latency_sec'], linestyle='-', color='gray', alpha=0.5, label=\"Raw Latency (s)\")\n",
    "sns.lineplot(x=df['elapsed_time_sec'], y=df['latency_rolling_sec'], linestyle='-', color='b', label=\"Rolling Avg (5s)\")\n",
    "\n",
    "plt.xlabel(\"Elapsed Time (seconds)\")\n",
    "plt.ylabel(\"Latency (seconds)\")\n",
    "plt.title(\"Latency Over Elapsed Experiment Time (5s Rolling Average)\")\n",
    "plt.legend()\n",
    "plt.grid(True)\n",
    "\n",
    "plt.show()"
   ]
  },
  {
   "cell_type": "code",
   "execution_count": 705,
   "id": "d66f6804",
   "metadata": {},
   "outputs": [
    {
     "ename": "KeyError",
     "evalue": "'queryName'",
     "output_type": "error",
     "traceback": [
      "\u001b[1;31m---------------------------------------------------------------------------\u001b[0m",
      "\u001b[1;31mKeyError\u001b[0m                                  Traceback (most recent call last)",
      "\u001b[1;32m~\\AppData\\Local\\Programs\\Python\\Python310\\lib\\site-packages\\pandas\\core\\indexes\\base.py\u001b[0m in \u001b[0;36mget_loc\u001b[1;34m(self, key, method, tolerance)\u001b[0m\n\u001b[0;32m   3620\u001b[0m             \u001b[1;32mtry\u001b[0m\u001b[1;33m:\u001b[0m\u001b[1;33m\u001b[0m\u001b[1;33m\u001b[0m\u001b[0m\n\u001b[1;32m-> 3621\u001b[1;33m                 \u001b[1;32mreturn\u001b[0m \u001b[0mself\u001b[0m\u001b[1;33m.\u001b[0m\u001b[0m_engine\u001b[0m\u001b[1;33m.\u001b[0m\u001b[0mget_loc\u001b[0m\u001b[1;33m(\u001b[0m\u001b[0mcasted_key\u001b[0m\u001b[1;33m)\u001b[0m\u001b[1;33m\u001b[0m\u001b[1;33m\u001b[0m\u001b[0m\n\u001b[0m\u001b[0;32m   3622\u001b[0m             \u001b[1;32mexcept\u001b[0m \u001b[0mKeyError\u001b[0m \u001b[1;32mas\u001b[0m \u001b[0merr\u001b[0m\u001b[1;33m:\u001b[0m\u001b[1;33m\u001b[0m\u001b[1;33m\u001b[0m\u001b[0m\n",
      "\u001b[1;32m~\\AppData\\Local\\Programs\\Python\\Python310\\lib\\site-packages\\pandas\\_libs\\index.pyx\u001b[0m in \u001b[0;36mpandas._libs.index.IndexEngine.get_loc\u001b[1;34m()\u001b[0m\n",
      "\u001b[1;32m~\\AppData\\Local\\Programs\\Python\\Python310\\lib\\site-packages\\pandas\\_libs\\index.pyx\u001b[0m in \u001b[0;36mpandas._libs.index.IndexEngine.get_loc\u001b[1;34m()\u001b[0m\n",
      "\u001b[1;32mpandas\\_libs\\hashtable_class_helper.pxi\u001b[0m in \u001b[0;36mpandas._libs.hashtable.PyObjectHashTable.get_item\u001b[1;34m()\u001b[0m\n",
      "\u001b[1;32mpandas\\_libs\\hashtable_class_helper.pxi\u001b[0m in \u001b[0;36mpandas._libs.hashtable.PyObjectHashTable.get_item\u001b[1;34m()\u001b[0m\n",
      "\u001b[1;31mKeyError\u001b[0m: 'queryName'",
      "\nThe above exception was the direct cause of the following exception:\n",
      "\u001b[1;31mKeyError\u001b[0m                                  Traceback (most recent call last)",
      "\u001b[1;32m~\\AppData\\Local\\Temp\\ipykernel_12400\\998353321.py\u001b[0m in \u001b[0;36m<module>\u001b[1;34m\u001b[0m\n\u001b[0;32m      1\u001b[0m \u001b[1;31m# Step 1: Filter for rows where queryName is 'spatialQuery'\u001b[0m\u001b[1;33m\u001b[0m\u001b[1;33m\u001b[0m\u001b[0m\n\u001b[1;32m----> 2\u001b[1;33m \u001b[0mfiltered_df\u001b[0m \u001b[1;33m=\u001b[0m \u001b[0mmongo_spatial_df\u001b[0m\u001b[1;33m[\u001b[0m\u001b[0mmongo_spatial_df\u001b[0m\u001b[1;33m[\u001b[0m\u001b[1;34m'queryName'\u001b[0m\u001b[1;33m]\u001b[0m \u001b[1;33m==\u001b[0m \u001b[1;34m'spatialQuery'\u001b[0m\u001b[1;33m]\u001b[0m\u001b[1;33m\u001b[0m\u001b[1;33m\u001b[0m\u001b[0m\n\u001b[0m\u001b[0;32m      3\u001b[0m \u001b[1;33m\u001b[0m\u001b[0m\n\u001b[0;32m      4\u001b[0m \u001b[1;31m# Step 2: Drop the first two and last two rows\u001b[0m\u001b[1;33m\u001b[0m\u001b[1;33m\u001b[0m\u001b[0m\n\u001b[0;32m      5\u001b[0m \u001b[0mtrimmed_df\u001b[0m \u001b[1;33m=\u001b[0m \u001b[0mfiltered_df\u001b[0m\u001b[1;33m.\u001b[0m\u001b[0miloc\u001b[0m\u001b[1;33m[\u001b[0m\u001b[1;36m2\u001b[0m\u001b[1;33m:\u001b[0m\u001b[1;33m-\u001b[0m\u001b[1;36m2\u001b[0m\u001b[1;33m]\u001b[0m  \u001b[1;31m# Removes first two and last two rows\u001b[0m\u001b[1;33m\u001b[0m\u001b[1;33m\u001b[0m\u001b[0m\n",
      "\u001b[1;32m~\\AppData\\Local\\Programs\\Python\\Python310\\lib\\site-packages\\pandas\\core\\frame.py\u001b[0m in \u001b[0;36m__getitem__\u001b[1;34m(self, key)\u001b[0m\n\u001b[0;32m   3503\u001b[0m             \u001b[1;32mif\u001b[0m \u001b[0mself\u001b[0m\u001b[1;33m.\u001b[0m\u001b[0mcolumns\u001b[0m\u001b[1;33m.\u001b[0m\u001b[0mnlevels\u001b[0m \u001b[1;33m>\u001b[0m \u001b[1;36m1\u001b[0m\u001b[1;33m:\u001b[0m\u001b[1;33m\u001b[0m\u001b[1;33m\u001b[0m\u001b[0m\n\u001b[0;32m   3504\u001b[0m                 \u001b[1;32mreturn\u001b[0m \u001b[0mself\u001b[0m\u001b[1;33m.\u001b[0m\u001b[0m_getitem_multilevel\u001b[0m\u001b[1;33m(\u001b[0m\u001b[0mkey\u001b[0m\u001b[1;33m)\u001b[0m\u001b[1;33m\u001b[0m\u001b[1;33m\u001b[0m\u001b[0m\n\u001b[1;32m-> 3505\u001b[1;33m             \u001b[0mindexer\u001b[0m \u001b[1;33m=\u001b[0m \u001b[0mself\u001b[0m\u001b[1;33m.\u001b[0m\u001b[0mcolumns\u001b[0m\u001b[1;33m.\u001b[0m\u001b[0mget_loc\u001b[0m\u001b[1;33m(\u001b[0m\u001b[0mkey\u001b[0m\u001b[1;33m)\u001b[0m\u001b[1;33m\u001b[0m\u001b[1;33m\u001b[0m\u001b[0m\n\u001b[0m\u001b[0;32m   3506\u001b[0m             \u001b[1;32mif\u001b[0m \u001b[0mis_integer\u001b[0m\u001b[1;33m(\u001b[0m\u001b[0mindexer\u001b[0m\u001b[1;33m)\u001b[0m\u001b[1;33m:\u001b[0m\u001b[1;33m\u001b[0m\u001b[1;33m\u001b[0m\u001b[0m\n\u001b[0;32m   3507\u001b[0m                 \u001b[0mindexer\u001b[0m \u001b[1;33m=\u001b[0m \u001b[1;33m[\u001b[0m\u001b[0mindexer\u001b[0m\u001b[1;33m]\u001b[0m\u001b[1;33m\u001b[0m\u001b[1;33m\u001b[0m\u001b[0m\n",
      "\u001b[1;32m~\\AppData\\Local\\Programs\\Python\\Python310\\lib\\site-packages\\pandas\\core\\indexes\\base.py\u001b[0m in \u001b[0;36mget_loc\u001b[1;34m(self, key, method, tolerance)\u001b[0m\n\u001b[0;32m   3621\u001b[0m                 \u001b[1;32mreturn\u001b[0m \u001b[0mself\u001b[0m\u001b[1;33m.\u001b[0m\u001b[0m_engine\u001b[0m\u001b[1;33m.\u001b[0m\u001b[0mget_loc\u001b[0m\u001b[1;33m(\u001b[0m\u001b[0mcasted_key\u001b[0m\u001b[1;33m)\u001b[0m\u001b[1;33m\u001b[0m\u001b[1;33m\u001b[0m\u001b[0m\n\u001b[0;32m   3622\u001b[0m             \u001b[1;32mexcept\u001b[0m \u001b[0mKeyError\u001b[0m \u001b[1;32mas\u001b[0m \u001b[0merr\u001b[0m\u001b[1;33m:\u001b[0m\u001b[1;33m\u001b[0m\u001b[1;33m\u001b[0m\u001b[0m\n\u001b[1;32m-> 3623\u001b[1;33m                 \u001b[1;32mraise\u001b[0m \u001b[0mKeyError\u001b[0m\u001b[1;33m(\u001b[0m\u001b[0mkey\u001b[0m\u001b[1;33m)\u001b[0m \u001b[1;32mfrom\u001b[0m \u001b[0merr\u001b[0m\u001b[1;33m\u001b[0m\u001b[1;33m\u001b[0m\u001b[0m\n\u001b[0m\u001b[0;32m   3624\u001b[0m             \u001b[1;32mexcept\u001b[0m \u001b[0mTypeError\u001b[0m\u001b[1;33m:\u001b[0m\u001b[1;33m\u001b[0m\u001b[1;33m\u001b[0m\u001b[0m\n\u001b[0;32m   3625\u001b[0m                 \u001b[1;31m# If we have a listlike key, _check_indexing_error will raise\u001b[0m\u001b[1;33m\u001b[0m\u001b[1;33m\u001b[0m\u001b[0m\n",
      "\u001b[1;31mKeyError\u001b[0m: 'queryName'"
     ]
    }
   ],
   "source": [
    "# Step 1: Filter for rows where queryName is 'spatialQuery'\n",
    "filtered_df = mongo_spatial_df[mongo_spatial_df['queryName'] == 'spatialQuery']\n",
    "\n",
    "# Step 2: Drop the first two and last two rows\n",
    "trimmed_df = filtered_df.iloc[2:-2]  # Removes first two and last two rows\n",
    "\n",
    "# Step 3: Create the boxplot for the latency column\n",
    "plt.figure(figsize=(8, 6))\n",
    "sns.boxplot(y=trimmed_df['latency'], color=\"#47A248\")  # MongoDB green color\n",
    "\n",
    "# Formatting\n",
    "plt.title(\"Latency Distribution for 'spatialQuery' in MongoDB\", fontsize=16)\n",
    "plt.ylabel(\"Latency (ms)\", fontsize=14, fontweight=\"bold\")\n",
    "plt.xlabel(\"Spatial Queries\", fontsize=14)\n",
    "\n",
    "# Increase tick labels size\n",
    "plt.xticks(fontsize=12)\n",
    "plt.yticks(fontsize=12)\n",
    "\n",
    "# Add thousands separators to y-axis\n",
    "import matplotlib.ticker as mticker\n",
    "plt.gca().yaxis.set_major_formatter(mticker.FuncFormatter(lambda x, pos: f'{int(x):,}'))\n",
    "\n",
    "# Show the plot\n",
    "plt.show()"
   ]
  },
  {
   "cell_type": "code",
   "execution_count": null,
   "id": "73cbb9cd",
   "metadata": {},
   "outputs": [],
   "source": [
    "# Define threshold (95th percentile)\n",
    "threshold = spatial_df['latency'].quantile(0.95)\n",
    "\n",
    "# Filter out extreme outliers\n",
    "filtered_df = spatiotemporal_df[spatiotemporal_df['latency'] <= threshold]\n",
    "\n",
    "# Calculate the median latency and convert to seconds\n",
    "median_latency = filtered_df['latency'].median()\n",
    "median_latency_sec = round(median_latency / 1000, 2)  # Convert ms to sec and round\n",
    "\n",
    "# Create the boxplot\n",
    "plt.figure(figsize=(8, 6))\n",
    "ax = sns.boxplot(y=filtered_df['latency'], color=\"#47A248\")  # MongoDB green color\n",
    "\n",
    "# Formatting\n",
    "plt.title(\"Spatial Query Latencies for Single-Node MongoDB (95th percentile)\", fontsize=16)\n",
    "plt.ylabel(\"Latency (ms)\", fontsize=14, fontweight=\"bold\")\n",
    "plt.xlabel(\"Spatiotemporal Queries\", fontsize=14)\n",
    "\n",
    "# Increase tick labels size\n",
    "plt.xticks(fontsize=12)\n",
    "plt.yticks(fontsize=12)\n",
    "\n",
    "# Add thousands separators to y-axis\n",
    "plt.gca().yaxis.set_major_formatter(mticker.FuncFormatter(lambda x, pos: f'{int(x):,}'))\n",
    "\n",
    "# Annotate the median latency\n",
    "plt.text(0, median_latency, f\"{median_latency_sec} sec\", \n",
    "         ha='center', va='bottom', fontsize=12, fontweight=\"bold\", color=\"black\")\n",
    "\n",
    "# Show the plot\n",
    "plt.show()\n"
   ]
  }
 ],
 "metadata": {
  "kernelspec": {
   "display_name": "Python 3 (ipykernel)",
   "language": "python",
   "name": "python3"
  },
  "language_info": {
   "codemirror_mode": {
    "name": "ipython",
    "version": 3
   },
   "file_extension": ".py",
   "mimetype": "text/x-python",
   "name": "python",
   "nbconvert_exporter": "python",
   "pygments_lexer": "ipython3",
   "version": "3.10.4"
  }
 },
 "nbformat": 4,
 "nbformat_minor": 5
}
