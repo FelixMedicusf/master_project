{
 "cells": [
  {
   "cell_type": "code",
   "execution_count": 34,
   "id": "4157955a",
   "metadata": {},
   "outputs": [],
   "source": [
    "import pandas as pd"
   ]
  },
  {
   "cell_type": "code",
   "execution_count": 35,
   "id": "ed403eff",
   "metadata": {},
   "outputs": [],
   "source": [
    "mongodbSinglePath = r\"C:\\Users\\Felix Medicus\\Desktop\\benchmark_experiments\\MongoDB\\single\\2.mongo_benchmark_execution_logs_spatiotemporal.txt\"\n",
    "mobilitydbSinglePath = r\"C:\\Users\\Felix Medicus\\Desktop\\benchmark_experiments\\MobilityDB\\single\\2.sql_benchmark_execution_logs_spatiotemporal.txt\"\n",
    "\n",
    "mobilitydbClusterPath = r\"C:\\Users\\Felix Medicus\\Desktop\\benchmark_experiments\\MobilityDB\\cluster\\1.mongo_benchmark_execution_logs_spatiotemporal.txt\"\n",
    "mobilitydbClusterPath = r\"C:\\Users\\Felix Medicus\\Desktop\\benchmark_experiments\\MobilityDB\\cluster\\1.sql_benchmark_execution_logs_spatiotemporal.txt\"\n"
   ]
  },
  {
   "cell_type": "code",
   "execution_count": 36,
   "id": "9b66c179",
   "metadata": {},
   "outputs": [
    {
     "name": "stdout",
     "output_type": "stream",
     "text": [
      "Index(['threadName', 'queryName', 'queryType', 'parameterValues', 'round',\n",
      "       'executionIndex', 'startFirstQuery', 'endFirstQuery', 'startSecQuery',\n",
      "       'endSecQuery', 'latency', 'fetchedRecords'],\n",
      "      dtype='object')\n"
     ]
    },
    {
     "data": {
      "text/html": [
       "<div>\n",
       "<style scoped>\n",
       "    .dataframe tbody tr th:only-of-type {\n",
       "        vertical-align: middle;\n",
       "    }\n",
       "\n",
       "    .dataframe tbody tr th {\n",
       "        vertical-align: top;\n",
       "    }\n",
       "\n",
       "    .dataframe thead th {\n",
       "        text-align: right;\n",
       "    }\n",
       "</style>\n",
       "<table border=\"1\" class=\"dataframe\">\n",
       "  <thead>\n",
       "    <tr style=\"text-align: right;\">\n",
       "      <th></th>\n",
       "      <th>threadName</th>\n",
       "      <th>queryName</th>\n",
       "      <th>queryType</th>\n",
       "      <th>parameterValues</th>\n",
       "      <th>round</th>\n",
       "      <th>executionIndex</th>\n",
       "      <th>startFirstQuery</th>\n",
       "      <th>endFirstQuery</th>\n",
       "      <th>startSecQuery</th>\n",
       "      <th>endSecQuery</th>\n",
       "      <th>latency</th>\n",
       "      <th>fetchedRecords</th>\n",
       "    </tr>\n",
       "  </thead>\n",
       "  <tbody>\n",
       "    <tr>\n",
       "      <th>0</th>\n",
       "      <td>thread-8</td>\n",
       "      <td>flightsInCountyInPeriod</td>\n",
       "      <td>spatiotemporal</td>\n",
       "      <td>tstzspan'[2023-01-25 04:50:28/ 2023-02-06 10:5...</td>\n",
       "      <td>0</td>\n",
       "      <td>0</td>\n",
       "      <td>1738969113545</td>\n",
       "      <td>1738969167683</td>\n",
       "      <td>0</td>\n",
       "      <td>0</td>\n",
       "      <td>54138</td>\n",
       "      <td>-1</td>\n",
       "    </tr>\n",
       "    <tr>\n",
       "      <th>1</th>\n",
       "      <td>thread-7</td>\n",
       "      <td>flightsInCountyInPeriod</td>\n",
       "      <td>spatiotemporal</td>\n",
       "      <td>tstzspan'[2023-08-19 01:06:09/ 2023-08-24 13:3...</td>\n",
       "      <td>0</td>\n",
       "      <td>0</td>\n",
       "      <td>1738969113544</td>\n",
       "      <td>1738969170179</td>\n",
       "      <td>0</td>\n",
       "      <td>0</td>\n",
       "      <td>56635</td>\n",
       "      <td>-1</td>\n",
       "    </tr>\n",
       "    <tr>\n",
       "      <th>2</th>\n",
       "      <td>thread-15</td>\n",
       "      <td>flightsInCountyInPeriod</td>\n",
       "      <td>spatiotemporal</td>\n",
       "      <td>tstzspan'[2023-11-25 22:00:48/ 2023-12-04 04:3...</td>\n",
       "      <td>0</td>\n",
       "      <td>0</td>\n",
       "      <td>1738969113545</td>\n",
       "      <td>1738969177725</td>\n",
       "      <td>0</td>\n",
       "      <td>0</td>\n",
       "      <td>64180</td>\n",
       "      <td>-1</td>\n",
       "    </tr>\n",
       "    <tr>\n",
       "      <th>3</th>\n",
       "      <td>thread-11</td>\n",
       "      <td>flightsInCountyInPeriod</td>\n",
       "      <td>spatiotemporal</td>\n",
       "      <td>tstzspan'[2023-08-16 20:51:36/ 2023-08-22 09:2...</td>\n",
       "      <td>0</td>\n",
       "      <td>0</td>\n",
       "      <td>1738969113544</td>\n",
       "      <td>1738969203263</td>\n",
       "      <td>0</td>\n",
       "      <td>0</td>\n",
       "      <td>89719</td>\n",
       "      <td>-1</td>\n",
       "    </tr>\n",
       "    <tr>\n",
       "      <th>4</th>\n",
       "      <td>thread-6</td>\n",
       "      <td>flightsInCountyInPeriod</td>\n",
       "      <td>spatiotemporal</td>\n",
       "      <td>tstzspan'[2023-11-28 04:48:32/ 2023-12-08 23:5...</td>\n",
       "      <td>0</td>\n",
       "      <td>0</td>\n",
       "      <td>1738969113545</td>\n",
       "      <td>1738969251702</td>\n",
       "      <td>0</td>\n",
       "      <td>0</td>\n",
       "      <td>138157</td>\n",
       "      <td>-1</td>\n",
       "    </tr>\n",
       "  </tbody>\n",
       "</table>\n",
       "</div>"
      ],
      "text/plain": [
       "  threadName                queryName       queryType  \\\n",
       "0   thread-8  flightsInCountyInPeriod  spatiotemporal   \n",
       "1   thread-7  flightsInCountyInPeriod  spatiotemporal   \n",
       "2  thread-15  flightsInCountyInPeriod  spatiotemporal   \n",
       "3  thread-11  flightsInCountyInPeriod  spatiotemporal   \n",
       "4   thread-6  flightsInCountyInPeriod  spatiotemporal   \n",
       "\n",
       "                                     parameterValues  round  executionIndex  \\\n",
       "0  tstzspan'[2023-01-25 04:50:28/ 2023-02-06 10:5...      0               0   \n",
       "1  tstzspan'[2023-08-19 01:06:09/ 2023-08-24 13:3...      0               0   \n",
       "2  tstzspan'[2023-11-25 22:00:48/ 2023-12-04 04:3...      0               0   \n",
       "3  tstzspan'[2023-08-16 20:51:36/ 2023-08-22 09:2...      0               0   \n",
       "4  tstzspan'[2023-11-28 04:48:32/ 2023-12-08 23:5...      0               0   \n",
       "\n",
       "   startFirstQuery  endFirstQuery  startSecQuery  endSecQuery  latency  \\\n",
       "0    1738969113545  1738969167683              0            0    54138   \n",
       "1    1738969113544  1738969170179              0            0    56635   \n",
       "2    1738969113545  1738969177725              0            0    64180   \n",
       "3    1738969113544  1738969203263              0            0    89719   \n",
       "4    1738969113545  1738969251702              0            0   138157   \n",
       "\n",
       "   fetchedRecords  \n",
       "0              -1  \n",
       "1              -1  \n",
       "2              -1  \n",
       "3              -1  \n",
       "4              -1  "
      ]
     },
     "execution_count": 36,
     "metadata": {},
     "output_type": "execute_result"
    }
   ],
   "source": [
    "df=pd.read_csv(mobilitydbSinglePath, skiprows=1)\n",
    "print(df.columns)\n",
    "df.head()"
   ]
  },
  {
   "cell_type": "code",
   "execution_count": 37,
   "id": "8525c03d",
   "metadata": {},
   "outputs": [
    {
     "name": "stdout",
     "output_type": "stream",
     "text": [
      "Average Latency for spatiotemporal queries: 54083.863333333335\n"
     ]
    }
   ],
   "source": [
    "spatiotemporal_df = df[df['queryType'] == 'spatiotemporal']\n",
    "average_latency = spatiotemporal_df['latency'].mean()\n",
    "print(f\"Average Latency for spatiotemporal queries: {average_latency}\")"
   ]
  },
  {
   "cell_type": "code",
   "execution_count": 38,
   "id": "526f398d",
   "metadata": {},
   "outputs": [
    {
     "ename": "KeyError",
     "evalue": "' queryType'",
     "output_type": "error",
     "traceback": [
      "\u001b[1;31m---------------------------------------------------------------------------\u001b[0m",
      "\u001b[1;31mKeyError\u001b[0m                                  Traceback (most recent call last)",
      "\u001b[1;32m~\\AppData\\Local\\Programs\\Python\\Python310\\lib\\site-packages\\pandas\\core\\indexes\\base.py\u001b[0m in \u001b[0;36mget_loc\u001b[1;34m(self, key, method, tolerance)\u001b[0m\n\u001b[0;32m   3620\u001b[0m             \u001b[1;32mtry\u001b[0m\u001b[1;33m:\u001b[0m\u001b[1;33m\u001b[0m\u001b[1;33m\u001b[0m\u001b[0m\n\u001b[1;32m-> 3621\u001b[1;33m                 \u001b[1;32mreturn\u001b[0m \u001b[0mself\u001b[0m\u001b[1;33m.\u001b[0m\u001b[0m_engine\u001b[0m\u001b[1;33m.\u001b[0m\u001b[0mget_loc\u001b[0m\u001b[1;33m(\u001b[0m\u001b[0mcasted_key\u001b[0m\u001b[1;33m)\u001b[0m\u001b[1;33m\u001b[0m\u001b[1;33m\u001b[0m\u001b[0m\n\u001b[0m\u001b[0;32m   3622\u001b[0m             \u001b[1;32mexcept\u001b[0m \u001b[0mKeyError\u001b[0m \u001b[1;32mas\u001b[0m \u001b[0merr\u001b[0m\u001b[1;33m:\u001b[0m\u001b[1;33m\u001b[0m\u001b[1;33m\u001b[0m\u001b[0m\n",
      "\u001b[1;32m~\\AppData\\Local\\Programs\\Python\\Python310\\lib\\site-packages\\pandas\\_libs\\index.pyx\u001b[0m in \u001b[0;36mpandas._libs.index.IndexEngine.get_loc\u001b[1;34m()\u001b[0m\n",
      "\u001b[1;32m~\\AppData\\Local\\Programs\\Python\\Python310\\lib\\site-packages\\pandas\\_libs\\index.pyx\u001b[0m in \u001b[0;36mpandas._libs.index.IndexEngine.get_loc\u001b[1;34m()\u001b[0m\n",
      "\u001b[1;32mpandas\\_libs\\hashtable_class_helper.pxi\u001b[0m in \u001b[0;36mpandas._libs.hashtable.PyObjectHashTable.get_item\u001b[1;34m()\u001b[0m\n",
      "\u001b[1;32mpandas\\_libs\\hashtable_class_helper.pxi\u001b[0m in \u001b[0;36mpandas._libs.hashtable.PyObjectHashTable.get_item\u001b[1;34m()\u001b[0m\n",
      "\u001b[1;31mKeyError\u001b[0m: ' queryType'",
      "\nThe above exception was the direct cause of the following exception:\n",
      "\u001b[1;31mKeyError\u001b[0m                                  Traceback (most recent call last)",
      "\u001b[1;32m~\\AppData\\Local\\Temp\\ipykernel_22096\\3842506496.py\u001b[0m in \u001b[0;36m<module>\u001b[1;34m\u001b[0m\n\u001b[1;32m----> 1\u001b[1;33m \u001b[0mspatial_df\u001b[0m \u001b[1;33m=\u001b[0m \u001b[0mdf\u001b[0m\u001b[1;33m[\u001b[0m\u001b[0mdf\u001b[0m\u001b[1;33m[\u001b[0m\u001b[1;34m' queryType'\u001b[0m\u001b[1;33m]\u001b[0m \u001b[1;33m==\u001b[0m \u001b[1;34m'spatial'\u001b[0m\u001b[1;33m]\u001b[0m\u001b[1;33m\u001b[0m\u001b[1;33m\u001b[0m\u001b[0m\n\u001b[0m\u001b[0;32m      2\u001b[0m \u001b[0maverage_latency\u001b[0m \u001b[1;33m=\u001b[0m \u001b[0mspatial_df\u001b[0m\u001b[1;33m[\u001b[0m\u001b[1;34m'latency'\u001b[0m\u001b[1;33m]\u001b[0m\u001b[1;33m.\u001b[0m\u001b[0mmean\u001b[0m\u001b[1;33m(\u001b[0m\u001b[1;33m)\u001b[0m\u001b[1;33m\u001b[0m\u001b[1;33m\u001b[0m\u001b[0m\n\u001b[0;32m      3\u001b[0m \u001b[0mprint\u001b[0m\u001b[1;33m(\u001b[0m\u001b[1;34mf\"Average Latency for spatial queries: {average_latency}\"\u001b[0m\u001b[1;33m)\u001b[0m\u001b[1;33m\u001b[0m\u001b[1;33m\u001b[0m\u001b[0m\n",
      "\u001b[1;32m~\\AppData\\Local\\Programs\\Python\\Python310\\lib\\site-packages\\pandas\\core\\frame.py\u001b[0m in \u001b[0;36m__getitem__\u001b[1;34m(self, key)\u001b[0m\n\u001b[0;32m   3503\u001b[0m             \u001b[1;32mif\u001b[0m \u001b[0mself\u001b[0m\u001b[1;33m.\u001b[0m\u001b[0mcolumns\u001b[0m\u001b[1;33m.\u001b[0m\u001b[0mnlevels\u001b[0m \u001b[1;33m>\u001b[0m \u001b[1;36m1\u001b[0m\u001b[1;33m:\u001b[0m\u001b[1;33m\u001b[0m\u001b[1;33m\u001b[0m\u001b[0m\n\u001b[0;32m   3504\u001b[0m                 \u001b[1;32mreturn\u001b[0m \u001b[0mself\u001b[0m\u001b[1;33m.\u001b[0m\u001b[0m_getitem_multilevel\u001b[0m\u001b[1;33m(\u001b[0m\u001b[0mkey\u001b[0m\u001b[1;33m)\u001b[0m\u001b[1;33m\u001b[0m\u001b[1;33m\u001b[0m\u001b[0m\n\u001b[1;32m-> 3505\u001b[1;33m             \u001b[0mindexer\u001b[0m \u001b[1;33m=\u001b[0m \u001b[0mself\u001b[0m\u001b[1;33m.\u001b[0m\u001b[0mcolumns\u001b[0m\u001b[1;33m.\u001b[0m\u001b[0mget_loc\u001b[0m\u001b[1;33m(\u001b[0m\u001b[0mkey\u001b[0m\u001b[1;33m)\u001b[0m\u001b[1;33m\u001b[0m\u001b[1;33m\u001b[0m\u001b[0m\n\u001b[0m\u001b[0;32m   3506\u001b[0m             \u001b[1;32mif\u001b[0m \u001b[0mis_integer\u001b[0m\u001b[1;33m(\u001b[0m\u001b[0mindexer\u001b[0m\u001b[1;33m)\u001b[0m\u001b[1;33m:\u001b[0m\u001b[1;33m\u001b[0m\u001b[1;33m\u001b[0m\u001b[0m\n\u001b[0;32m   3507\u001b[0m                 \u001b[0mindexer\u001b[0m \u001b[1;33m=\u001b[0m \u001b[1;33m[\u001b[0m\u001b[0mindexer\u001b[0m\u001b[1;33m]\u001b[0m\u001b[1;33m\u001b[0m\u001b[1;33m\u001b[0m\u001b[0m\n",
      "\u001b[1;32m~\\AppData\\Local\\Programs\\Python\\Python310\\lib\\site-packages\\pandas\\core\\indexes\\base.py\u001b[0m in \u001b[0;36mget_loc\u001b[1;34m(self, key, method, tolerance)\u001b[0m\n\u001b[0;32m   3621\u001b[0m                 \u001b[1;32mreturn\u001b[0m \u001b[0mself\u001b[0m\u001b[1;33m.\u001b[0m\u001b[0m_engine\u001b[0m\u001b[1;33m.\u001b[0m\u001b[0mget_loc\u001b[0m\u001b[1;33m(\u001b[0m\u001b[0mcasted_key\u001b[0m\u001b[1;33m)\u001b[0m\u001b[1;33m\u001b[0m\u001b[1;33m\u001b[0m\u001b[0m\n\u001b[0;32m   3622\u001b[0m             \u001b[1;32mexcept\u001b[0m \u001b[0mKeyError\u001b[0m \u001b[1;32mas\u001b[0m \u001b[0merr\u001b[0m\u001b[1;33m:\u001b[0m\u001b[1;33m\u001b[0m\u001b[1;33m\u001b[0m\u001b[0m\n\u001b[1;32m-> 3623\u001b[1;33m                 \u001b[1;32mraise\u001b[0m \u001b[0mKeyError\u001b[0m\u001b[1;33m(\u001b[0m\u001b[0mkey\u001b[0m\u001b[1;33m)\u001b[0m \u001b[1;32mfrom\u001b[0m \u001b[0merr\u001b[0m\u001b[1;33m\u001b[0m\u001b[1;33m\u001b[0m\u001b[0m\n\u001b[0m\u001b[0;32m   3624\u001b[0m             \u001b[1;32mexcept\u001b[0m \u001b[0mTypeError\u001b[0m\u001b[1;33m:\u001b[0m\u001b[1;33m\u001b[0m\u001b[1;33m\u001b[0m\u001b[0m\n\u001b[0;32m   3625\u001b[0m                 \u001b[1;31m# If we have a listlike key, _check_indexing_error will raise\u001b[0m\u001b[1;33m\u001b[0m\u001b[1;33m\u001b[0m\u001b[0m\n",
      "\u001b[1;31mKeyError\u001b[0m: ' queryType'"
     ]
    }
   ],
   "source": [
    "spatial_df = df[df[' queryType'] == 'spatial']\n",
    "average_latency = spatial_df['latency'].mean()\n",
    "print(f\"Average Latency for spatial queries: {average_latency}\")"
   ]
  },
  {
   "cell_type": "code",
   "execution_count": null,
   "id": "9d472f0b",
   "metadata": {},
   "outputs": [],
   "source": [
    "temporal_df = df[df[' queryType'] == 'temporal']\n",
    "average_latency = temporal_df['latency'].mean()\n",
    "print(f\"Average Latency for temporal queries: {average_latency}\")"
   ]
  }
 ],
 "metadata": {
  "kernelspec": {
   "display_name": "Python 3 (ipykernel)",
   "language": "python",
   "name": "python3"
  },
  "language_info": {
   "codemirror_mode": {
    "name": "ipython",
    "version": 3
   },
   "file_extension": ".py",
   "mimetype": "text/x-python",
   "name": "python",
   "nbconvert_exporter": "python",
   "pygments_lexer": "ipython3",
   "version": "3.10.4"
  }
 },
 "nbformat": 4,
 "nbformat_minor": 5
}
